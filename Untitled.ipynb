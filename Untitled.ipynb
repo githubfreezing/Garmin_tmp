{
 "cells": [
  {
   "cell_type": "code",
   "execution_count": 1,
   "id": "6bc27fe7-1774-4841-a5b2-179fe02e0c3f",
   "metadata": {},
   "outputs": [
    {
     "name": "stdout",
     "output_type": "stream",
     "text": [
      "Requirement already satisfied: garminconnect in c:\\users\\rtx3070\\mysrc\\src\\garmin\\myenv\\lib\\site-packages (0.2.7)\n",
      "Requirement already satisfied: garth>=0.4.23 in c:\\users\\rtx3070\\mysrc\\src\\garmin\\myenv\\lib\\site-packages (from garminconnect) (0.4.27)\n",
      "Requirement already satisfied: pydantic>=2.0.0 in c:\\users\\rtx3070\\mysrc\\src\\garmin\\myenv\\lib\\site-packages (from garth>=0.4.23->garminconnect) (2.3.0)\n",
      "Requirement already satisfied: requests>=2.0.0 in c:\\users\\rtx3070\\mysrc\\src\\garmin\\myenv\\lib\\site-packages (from garth>=0.4.23->garminconnect) (2.31.0)\n",
      "Requirement already satisfied: requests-oauthlib>=1.3.1 in c:\\users\\rtx3070\\mysrc\\src\\garmin\\myenv\\lib\\site-packages (from garth>=0.4.23->garminconnect) (1.3.1)\n",
      "Requirement already satisfied: annotated-types>=0.4.0 in c:\\users\\rtx3070\\mysrc\\src\\garmin\\myenv\\lib\\site-packages (from pydantic>=2.0.0->garth>=0.4.23->garminconnect) (0.5.0)\n",
      "Requirement already satisfied: typing-extensions>=4.6.1 in c:\\users\\rtx3070\\mysrc\\src\\garmin\\myenv\\lib\\site-packages (from pydantic>=2.0.0->garth>=0.4.23->garminconnect) (4.8.0)\n",
      "Requirement already satisfied: pydantic-core==2.6.3 in c:\\users\\rtx3070\\mysrc\\src\\garmin\\myenv\\lib\\site-packages (from pydantic>=2.0.0->garth>=0.4.23->garminconnect) (2.6.3)\n",
      "Requirement already satisfied: charset-normalizer<4,>=2 in c:\\users\\rtx3070\\mysrc\\src\\garmin\\myenv\\lib\\site-packages (from requests>=2.0.0->garth>=0.4.23->garminconnect) (3.2.0)\n",
      "Requirement already satisfied: certifi>=2017.4.17 in c:\\users\\rtx3070\\mysrc\\src\\garmin\\myenv\\lib\\site-packages (from requests>=2.0.0->garth>=0.4.23->garminconnect) (2023.7.22)\n",
      "Requirement already satisfied: idna<4,>=2.5 in c:\\users\\rtx3070\\mysrc\\src\\garmin\\myenv\\lib\\site-packages (from requests>=2.0.0->garth>=0.4.23->garminconnect) (3.4)\n",
      "Requirement already satisfied: urllib3<3,>=1.21.1 in c:\\users\\rtx3070\\mysrc\\src\\garmin\\myenv\\lib\\site-packages (from requests>=2.0.0->garth>=0.4.23->garminconnect) (2.0.5)\n",
      "Requirement already satisfied: oauthlib>=3.0.0 in c:\\users\\rtx3070\\mysrc\\src\\garmin\\myenv\\lib\\site-packages (from requests-oauthlib>=1.3.1->garth>=0.4.23->garminconnect) (3.2.2)\n"
     ]
    },
    {
     "name": "stderr",
     "output_type": "stream",
     "text": [
      "\n",
      "[notice] A new release of pip available: 22.3.1 -> 23.3.1\n",
      "[notice] To update, run: python.exe -m pip install --upgrade pip\n"
     ]
    }
   ],
   "source": [
    "!pip install garminconnect"
   ]
  },
  {
   "cell_type": "code",
   "execution_count": 1,
   "id": "4ec23207-cc0f-4edc-bbff-900a38b976ac",
   "metadata": {},
   "outputs": [
    {
     "ename": "ModuleNotFoundError",
     "evalue": "No module named 'garminconnect'",
     "output_type": "error",
     "traceback": [
      "\u001b[1;31m---------------------------------------------------------------------------\u001b[0m",
      "\u001b[1;31mModuleNotFoundError\u001b[0m                       Traceback (most recent call last)",
      "Cell \u001b[1;32mIn[1], line 1\u001b[0m\n\u001b[1;32m----> 1\u001b[0m \u001b[38;5;28;01mfrom\u001b[39;00m \u001b[38;5;21;01mgarminconnect\u001b[39;00m \u001b[38;5;28;01mimport\u001b[39;00m Garmin\n",
      "\u001b[1;31mModuleNotFoundError\u001b[0m: No module named 'garminconnect'"
     ]
    }
   ],
   "source": [
    "from garminconnect import Garmin"
   ]
  },
  {
   "cell_type": "code",
   "execution_count": 2,
   "id": "e64e33ed-c28b-4e1c-90b8-8cf7d4e77110",
   "metadata": {},
   "outputs": [
    {
     "name": "stdout",
     "output_type": "stream",
     "text": [
      "Python 3.10.9\n"
     ]
    }
   ],
   "source": [
    "!python --version"
   ]
  },
  {
   "cell_type": "code",
   "execution_count": null,
   "id": "268dbf07-84f4-402d-83d8-4a26451799f3",
   "metadata": {},
   "outputs": [],
   "source": []
  }
 ],
 "metadata": {
  "kernelspec": {
   "display_name": "Python 3 (ipykernel)",
   "language": "python",
   "name": "python3"
  },
  "language_info": {
   "codemirror_mode": {
    "name": "ipython",
    "version": 3
   },
   "file_extension": ".py",
   "mimetype": "text/x-python",
   "name": "python",
   "nbconvert_exporter": "python",
   "pygments_lexer": "ipython3",
   "version": "3.10.9"
  }
 },
 "nbformat": 4,
 "nbformat_minor": 5
}
